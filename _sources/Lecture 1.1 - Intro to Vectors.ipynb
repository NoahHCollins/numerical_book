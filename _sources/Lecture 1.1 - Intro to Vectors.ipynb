{
 "cells": [
  {
   "cell_type": "markdown",
   "metadata": {},
   "source": [
    "# Continuum Mechanics and Vector/Tensor Calculus\n",
    "\n",
    "Lecture 1.1  \n",
    "Saskia Goes, s.goes@imperial.ac.uk\n"
   ]
  },
  {
   "cell_type": "markdown",
   "metadata": {
    "tags": []
   },
   "source": [
    "## Table of Contents\n",
    "```{contents}\n",
    "```"
   ]
  },
  {
   "cell_type": "markdown",
   "metadata": {
    "tags": []
   },
   "source": [
    "## Primary Learning Materials\n",
    "- Lecture notes in Jupyter notebook\n",
    "- Problem sets and solutions in Jupyter notebook  \n",
    "\n",
    "All content avaliable on GitHub\n",
    "\n",
    "### Recomended reading\n",
    "No textbook is required for this module, however the following texts may be helpful\n",
    "- Introduction to Continuum Mechanics, W.M. Lai, D. Rubin,\n",
    "E. Krempl, 4th edition, Elsevier – available in electronic\n",
    "form through IC library\n",
    "- An Introduction to Continuum Mechanics, J.N. Reddy, 2nd\n",
    "edition, Cambridge University Press, 2013\n",
    "\n",
    "These books use similar notation as this course and cover the\n",
    "mathematical background for first part of this class. Different\n",
    "reading may be suggested for other parts of the course\n",
    "\n"
   ]
  },
  {
   "cell_type": "markdown",
   "metadata": {},
   "source": [
    "## Introduction\n",
    "\n",
    "### Continuum Mechanics\n",
    "- *Macroscopic description* of the collective behaviour of\n",
    "atoms/molecules in the limit where scale of interest >> scale of the\n",
    "individual components\n",
    "- A material, be it solid, liquid, or gas is treated as a hypothetical\n",
    "continuum where all quantities vary continuously so that\n",
    "spatial derivatives exist\n",
    "-In such a treatment, we can consider infinitesimally\n",
    "small volumes of the material and define point\n",
    "quantities, like mass, velocity, stress\n",
    "-Such a description has been found to be applicable in a\n",
    "wide range of problems in engineering and physical\n",
    "sciences"
   ]
  },
  {
   "cell_type": "markdown",
   "metadata": {},
   "source": [
    "```{figure} Images/Lecture1.1/Hotspring.png\n",
    ":width: 75%\n",
    "```"
   ]
  },
  {
   "cell_type": "markdown",
   "metadata": {},
   "source": [
    "#### Continuum Mechanics Equations\n",
    "**General:**\n",
    "1. *Kinematics* – describing deformation and velocity without\n",
    "considering forces\n",
    "2. *Dynamics* – equations that describe force balance, conservation\n",
    "of linear and angular momentum\n",
    "3. *Thermodynamics* – relations temperature, heat flux, stress,\n",
    "entropy\n",
    "\n",
    "**Material Specific:**\n",
    "\n",
    "4. *Constitutive equations* - relations describing how material\n",
    "properties vary as a function of T,P, stress, ect. Such material\n",
    "properties govern dynamics (e.g. density), response to stress\n",
    "(viscosity, elastic parameters), heat transport (thermal\n",
    "conductivity, diffusivity) \n",
    "\n",
    "*These equations yeild a set of Partial Differential Equations that can be\n",
    "solved for displacement, velocity, temperature, ect...*"
   ]
  },
  {
   "cell_type": "markdown",
   "metadata": {},
   "source": [
    "### Differential Equations\n",
    "\n",
    "- **Ordinary Differential Equations** - describe how\n",
    "variables depend on a single independent parameter (e.g. time or distance).  Take Newton's second law for example,  \n",
    "\n",
    "$$ m\\frac{d^2x}{dt^2} = F $$\n",
    "\n",
    "- **Partial Differential Equations** - describe how\n",
    "variables depend on several independent parameters\n",
    "(e.g. time, x,y,z coordinates). For example, the thermal diffusion equation,\n",
    "\n",
    "$$ \\frac{\\partial T}{\\partial t} = k \\frac{\\partial ^2 T}{\\partial x^2} $$\n",
    "\n",
    "$\\partial$ *- partial derivative*\n"
   ]
  },
  {
   "cell_type": "markdown",
   "metadata": {},
   "source": [
    "## Vectors and Tensors\n",
    "\n",
    "Revision topics for vectors  \n",
    "- Addition, linear independence  \n",
    "- Orthonormal Cartesian bases, transformation  \n",
    "- Multiplication  \n",
    "- Derivatives, del, div, curl  \n",
    "\n",
    "Revision / introductory topics for tensors  \n",
    "- Tensors, rank, stress tensor  \n",
    "- Index notation, summation convention  \n",
    "- Addition, multiplication  \n",
    "- Tensor calculus: gradient, divergence, curl, ect..."
   ]
  },
  {
   "cell_type": "markdown",
   "metadata": {},
   "source": [
    "### Learning Outcomes <a name=\"learning_outcomes\"></a>\n",
    "1. Be able to perform vector/tensor operations (addition,\n",
    "multiplication) on Cartesian orthonormal bases\n",
    "2. Be able to do basic vector/tensor calculus (time and\n",
    "space derivatives, divergence, curl of a vector field) on\n",
    "these bases.\n",
    "3. Perform transformation of a vector from one Cartesian\n",
    "basis to another.\n",
    "4. Understand differences/commonalities between tensor\n",
    "and vector\n",
    "5. Familiarity with index notation and Einstein convention"
   ]
  },
  {
   "cell_type": "markdown",
   "metadata": {},
   "source": [
    "### Introduction to Vectors and Tensors\n",
    "Continuum mechanics equations require vectors and tensors, e.g.\n",
    "velocity is a vector, with magnitude and direction in 3-D, and so are\n",
    "forces like gravity. The components of a vector depend on the coordinate system chosen to represent them in. However, the actual size and orientation of the vector is not dependent on the choice of coordinate system\n",
    "\n",
    "```{figure} Images/Lecture1.1/CoordinateSystems.jpg\n",
    ":width: 70%\n",
    "```\n",
    "\n",
    "*note the size and orientation of the vector is the same regardless of coordinate system*\n",
    "\n"
   ]
  },
  {
   "cell_type": "markdown",
   "metadata": {},
   "source": [
    "#### Key Charecteristics of a Vector\n",
    "Which of the following are true of vectors?\n",
    "\n",
    "1. Anything that is not a scalar\n",
    "2. Has three components\n",
    "3. Has magnitude and direction\n",
    "4. Depends on coordinate frame\n",
    "5. Velocity and rotation are two examples\n",
    "6. Multiplication of two vectors gives another vector"
   ]
  },
  {
   "cell_type": "markdown",
   "metadata": {},
   "source": [
    "#### Notation\n",
    "- Vectors writen as $\\boldsymbol{v}$, $\\bar{v}$, or $\\overrightarrow{v}$\n",
    "- Length of vectors written as $v$ or $\\lvert \\boldsymbol{v} \\rvert$\n",
    "- Vector in Cartesian components written as $v_x , v_y , v_z$\n",
    "- Index notation, $v_i$ where $i = x,y,z$ or $i = 1,2,3$\n",
    "- Unit vector along direction of $\\boldsymbol{v}$ written as $\\hat{e_v}$  \n",
    "\n",
    "The unit vector is defined as follows,\n",
    "\n",
    "$$\\hat{e_v} = \\frac{\\boldsymbol{v}}{\\lvert \\boldsymbol{v} \\rvert}$$\n",
    "Hence,\n",
    "\n",
    "$$\\boldsymbol{v} = \\hat{e_v} \\lvert \\boldsymbol{v} \\rvert$$"
   ]
  },
  {
   "cell_type": "markdown",
   "metadata": {},
   "source": [
    "### Vector properties\n",
    "\n",
    "Vectors satisfy certain rules of addition and scalar multiplication\n",
    "- $\\mathbf{a} + \\mathbf{b} = \\mathbf{b} +\\mathbf{a}$  (commutative)\n",
    "- $(\\mathbf{a} + \\mathbf{b}) + \\mathbf{c} = \\mathbf{a} +(\\mathbf{b} + \\mathbf{c})$  (associative)\n",
    "- $\\alpha (\\mathbf{a} + \\mathbf{b}) = \\alpha\\mathbf{a} + \\alpha\\mathbf{b}$ (distributive)\n",
    "- $\\mathbf{a} + 0 = \\mathbf{a}$ (zero vector)\n",
    "- $1 \\cdot{} \\mathbf{a} = \\mathbf{a} \\cdot 1$ and $0 \\cdot{} \\mathbf{a} = 0$\n",
    "\n",
    "\n",
    "```{figure} Images/Lecture1.1/vector_sum.png\n",
    ":width: 75%\n",
    "```\n",
    "\n",
    "We will see that similar rules apply to tensors. See http://mathworld.wolfram.com/Vector.html for more details"
   ]
  },
  {
   "cell_type": "markdown",
   "metadata": {},
   "source": [
    "#### Finite rotation \"Vector\"\n",
    "\n",
    "A finite rotation can be represented as a pseudo-vector. The direction of the vector forms the axis of rotation and the magnitude represents the angle rotated. For the direction of rotation the right hand rule is used where the thumb aligns to the axis of rotation and the fingers point in the direction of rotation.\n",
    "\n",
    "```{figure} Images/Lecture1.1/Rotationvector.png\n",
    ":width: 50%\n",
    "```\n",
    "\n",
    "The reason that finite rotation is a pseudo-vector is that the addition of two finite rotations is not commutative. Hence finite rotations do not satisfy the properties of a vector. However, an infinitesimal rotation is considered a vector."
   ]
  },
  {
   "cell_type": "markdown",
   "metadata": {},
   "source": [
    "#### Linear independence\n",
    "\n",
    "Vectors $\\mathbf{v_1}$ through $\\mathbf{v_n}$ are linearly *dependent* if coefficients $c_i$ can be found such that:  \n",
    "\n",
    "$c_1 \\mathbf{v_1} + c_2 \\mathbf{v_2} + c_3 \\mathbf{v_3} + ... + c_n \\mathbf{v_n} = 0$ where $c_i \\neq 0$\n",
    "\n",
    "Hence, vectors are linearly *independent* if they cannot be written as linear combinations of each other.\n",
    "- Two linearly dependent vectors are parallel/collinear\n",
    "- Three linearly dependent vectors are coplanar\n",
    "-Four or more vectors are always linearly dependent\n",
    "\n",
    "Important for defining bases and finding independent solutions to a problem. Practice for this is in Exercise 2\n"
   ]
  },
  {
   "cell_type": "markdown",
   "metadata": {},
   "source": [
    "### Inner, dot, or scalar product\n",
    "\n",
    "$$\n",
    "\\mathbf{F} \\cdot \\mathbf{d} = \\lvert \\mathbf{F} \\rvert \\rvert \\lvert \\mathbf{d} \\rvert \\cos{\\theta}\n",
    "$$\n",
    "\n",
    "- Produces a scalar (hence the name scalar product)\n",
    "- gives the projection of $\\mathbf{F}$ on $\\mathbf{d}$ scaled by $\\lvert \\mathbf{d} \\rvert$\n",
    "- $\\mathbf{F} \\cdot \\mathbf{d} = \\mathbf{d} \\cdot \\mathbf{F}$\n",
    "- $\\mathbf{a} \\cdot \\mathbf{a} = length(\\mathbf{a})^2 = \\lvert \\mathbf{a} \\rvert^2$\n",
    "    \n",
    "```{figure} Images/Lecture1.1/Dotproduct.png\n",
    ":width: 20%\n",
    "```\n",
    "\n",
    "The scalar product has several physical interpretations. For example, if $\\mathbf{F}$ is force and $\\mathbf{d}$ is displacement, then $\\mathbf{F} \\cdot \\mathbf{d}$ is the work done by the force $\\mathbf{F}$ for displacement $\\mathbf{d}$"
   ]
  },
  {
   "cell_type": "markdown",
   "metadata": {},
   "source": [
    "### Cross, vector, or outer product\n",
    "\n",
    "- Produces a vector\n",
    "- Magnitude of cross product is the area of a parallellogram spanned by $\\mathbf{a}$ and $\\mathbf{b}$\n",
    "- Direction of cross product is normal to the plane of $\\mathbf{a}$ and $\\mathbf{b}$\n",
    "- if $\\mathbf{a}$ and $\\mathbf{b}$ are parallel cross product = 0\n",
    "- $\\mathbf{a} \\times \\mathbf{b} = -\\mathbf{a} \\times \\mathbf{b}$\n",
    "\n",
    "```{figure} Images/Lecture1.1/cross_product.png\n",
    ":width: 30%\n",
    "```\n",
    "\n",
    "One physical interpretation of the cross product is in calculating moments. If $\\mathbf{r_{AB}}$ is the moment arm between the pivot point A and the force $\\mathbf{F_B}$, then the resulting moment is calculated as \n",
    "\n",
    "$$\n",
    "\\mathbf{M_A} = \\mathbf{r_{AB}} \\times\\mathbf{F_B} = aF\\sin{\\phi} \\hat{\\mathbf{e_M}}\n",
    "$$"
   ]
  },
  {
   "cell_type": "markdown",
   "metadata": {},
   "source": [
    "\n",
    "```{figure} Images/Lecture1.1/Moment_cross_product.png\n",
    ":width: 50%\n",
    "```"
   ]
  },
  {
   "cell_type": "markdown",
   "metadata": {},
   "source": [
    "### Product calculations\n",
    "\n",
    "The products of vectors in rectangular Cartesian coordinates:  \n",
    "**2D**  \n",
    "\n",
    "$$\\mathbf{v} \\cdot \\mathbf{w} = v_1 w_1 + v_2 w_2$$  \n",
    "\n",
    "$$\\mathbf{v} \\times \\mathbf{w} = (v_1 w_2 - v_2 w_1) \\hat{\\mathbf{e_3}}$$\n",
    "\n",
    "**3D**\n",
    "\n",
    "$$\\mathbf{v} \\cdot \\mathbf{w} = v_1 w_1 + v_2 w_2 + v_3 w_3$$  \n",
    "\n",
    "$$\\mathbf{v} \\times \\mathbf{w} = \n",
    "\\left(\\begin{array}{cc} \n",
    "v_2 w_3 - v_3 w_2\\\\ \n",
    "v_3 w_1 - v_1 w_3\\\\\n",
    "v_1 w_2 - v_2 w_1\\\\\n",
    "\\end{array}\\right)$$ "
   ]
  },
  {
   "cell_type": "markdown",
   "metadata": {},
   "source": [
    "## Rectangular Cartesian Coordinate System\n",
    "The rectangular Cartesian coordinate system has an orthonormal basis. This means that the basis vectors are all unit vectors, orthogonal to each other.\n",
    "\n",
    "$$\n",
    "\\hat{\\mathbf{e_i}} \\cdot \\hat{\\mathbf{e_j}} = 0 \\iff i \\neq j\n",
    "$$  \n",
    "\n",
    "$$\n",
    "\\hat{\\mathbf{e_i}} \\cdot \\hat{\\mathbf{e_i}} = \\lvert \\hat{\\mathbf{e_i}} \\rvert^2 = 1\n",
    "$$\n",
    "\n",
    "Cartesian orthonormal bases will be assumed for the following"
   ]
  },
  {
   "cell_type": "markdown",
   "metadata": {},
   "source": [
    "\n",
    "```{figure} Images/Lecture1.1/Other_bases.png\n",
    ":width: 80%\n",
    "```"
   ]
  },
  {
   "cell_type": "markdown",
   "metadata": {},
   "source": [
    "### Equivalence of Cartesian geometric and algebraic dot product\n",
    "\n",
    "$$ \n",
    "\\mathbf{a} = \\sum_i a_i \\hat{\\mathbf{e_i}}\n",
    "$$\n",
    "$$\n",
    "\\mathbf{b} = \\sum_i b_i \\hat{\\mathbf{e_i}}\n",
    "$$\n",
    "$$\n",
    "\\mathbf{a} \\cdot \\hat{\\mathbf{e_i}} = \\lvert \\mathbf{a} \\rvert \\lvert \\hat{\\mathbf{e_i}} \\rvert \\cos{\\theta_i} = \\lvert \\mathbf{a} \\rvert  \\cos{\\theta_i} = a_i \n",
    "$$\n",
    "\n",
    "$$\n",
    "\\mathbf{a} \\cdot \\mathbf{b} = \\mathbf{a} \\cdot \\sum_i b_i \\hat{\\mathbf{e_i}} = \\sum_i b_i (\\mathbf{a} \\cdot \\hat{\\mathbf{e_i}}) = \\sum_i b_i a_i = \\sum_i a_i b_i\n",
    "$$"
   ]
  },
  {
   "cell_type": "markdown",
   "metadata": {},
   "source": [
    "### Cartesian algebraic cross product\n",
    "\n",
    "```{figure} Images/Lecture1.1/cartesian.png\n",
    ":width: 20%\n",
    "```\n",
    "    \n",
    "Recall that the result of the cross product has a magnitude equal to the area of a parallellogram formed by the two vectors, and has direction normal to the parallellogram. From this it can be seen that $\\hat{\\mathbf{e_1}} \\times \\hat{\\mathbf{e_2}} = \\hat{\\mathbf{e_3}}$. Using the properties of cross product we can also see that $\\hat{\\mathbf{e_2}} \\times \\hat{\\mathbf{e_1}} = -\\hat{\\mathbf{e_3}}$\n",
    "\n",
    "Using the basis vectors, the 2D cross product result can be shown fully as:\n",
    "\n",
    "$$\n",
    "\\mathbf{a} \\times \\mathbf{b} = (a_1 \\hat{\\mathbf{e_1}} + a_2 \\hat{\\mathbf{e_2}}) \\times (b_1 \\hat{\\mathbf{e_1}} + b_2 \\hat{\\mathbf{e_2}})\n",
    "$$  \n",
    "\n",
    "$$ = a_1 b_1 (\\hat{\\mathbf{e_1}} \\times \\hat{\\mathbf{e_1}}) + a_1 b_2 (\\hat{\\mathbf{e_1}} \\times \\hat{\\mathbf{e_2}}) + a_2 b_1 (\\hat{\\mathbf{e_2}} \\times \\hat{\\mathbf{e_1}}) + a_2 b_2 (\\hat{\\mathbf{e_2}} \\times \\hat{\\mathbf{e_2}})\n",
    "$$  \n",
    "\n",
    "$$\n",
    "= (a_1 b_2 - a_2 b_1)\\hat{\\mathbf{e_3}}\n",
    "$$"
   ]
  },
  {
   "cell_type": "markdown",
   "metadata": {},
   "source": [
    "### Triple Products <a name=\"tripple_product\"></a>\n",
    "- $\\mathbf{a}(\\mathbf{b}\\cdot\\mathbf{c})$ is a vector multiplied by a scalar\n",
    "- $\\mathbf{a}\\cdot(\\mathbf{b}\\times\\mathbf{c})$ is the scalar triple product\n",
    "- $\\mathbf{a}\\cdot(\\mathbf{b}\\times\\mathbf{c}) =(\\mathbf{a}\\times\\mathbf{b})\\cdot\\mathbf{c}$  \n",
    "$ = \\mathbf{c}\\cdot(\\mathbf{a}\\times\\mathbf{b}) = \\mathbf{b}\\cdot(\\mathbf{c}\\times\\mathbf{a})$ (with cyclical permutation)  \n",
    "\n",
    "- $-\\mathbf{a}\\cdot(\\mathbf{c}\\times\\mathbf{b}) =-\\mathbf{c}\\cdot(\\mathbf{b}\\times\\mathbf{a}) = -\\mathbf{b}\\cdot(\\mathbf{a}\\times\\mathbf{c})$ (with order changed)\n",
    "- $ = 0 $ if $\\mathbf{a}, \\mathbf{b}, \\mathbf{c}$ are coplanar\n",
    "- $\\mathbf{a} \\times (\\mathbf{b} \\times \\mathbf{c})$ lies in plance formed by $\\mathbf{b} \\times \\mathbf{c}$ normal to $\\mathbf{a}$  \n",
    "$ \\neq (\\mathbf{a} \\times \\mathbf{b}) \\times \\mathbf{c}$  \n",
    "$ = (\\mathbf{a} \\cdot \\mathbf{c}) \\mathbf{b} - (\\mathbf{a} \\cdot \\mathbf{b}) \\mathbf{c}$\n",
    "\n",
    "*Exercise 8*"
   ]
  },
  {
   "cell_type": "markdown",
   "metadata": {},
   "source": [
    "## Covered so far\n",
    "- Revision of main characteristics of a vector\n",
    "- Linear independence of vectors\n",
    "- Vector products: dot product, cross product\n",
    "- Definition Cartesian orthonormal basis"
   ]
  },
  {
   "cell_type": "markdown",
   "metadata": {},
   "source": [
    "## Take a break, then try yourself\n",
    "- If the material covered so far was all familiar,\n",
    "please skip to Exercise 2 in the notebook\n",
    "\n",
    "- If you would benefit from recapping vector\n",
    "products, please look at Exercise 1 first"
   ]
  }
 ],
 "metadata": {
  "kernelspec": {
   "display_name": "Python 3 (ipykernel)",
   "language": "python",
   "name": "python3"
  },
  "language_info": {
   "codemirror_mode": {
    "name": "ipython",
    "version": 3
   },
   "file_extension": ".py",
   "mimetype": "text/x-python",
   "name": "python",
   "nbconvert_exporter": "python",
   "pygments_lexer": "ipython3",
   "version": "3.11.3"
  },
  "toc-autonumbering": false,
  "toc-showcode": false,
  "toc-showmarkdowntxt": false,
  "toc-showtags": false
 },
 "nbformat": 4,
 "nbformat_minor": 4
}
